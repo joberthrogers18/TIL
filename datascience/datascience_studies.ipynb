{
 "metadata": {
  "language_info": {
   "codemirror_mode": {
    "name": "ipython",
    "version": 3
   },
   "file_extension": ".py",
   "mimetype": "text/x-python",
   "name": "python",
   "nbconvert_exporter": "python",
   "pygments_lexer": "ipython3",
   "version": "3.8.5"
  },
  "orig_nbformat": 4,
  "kernelspec": {
   "name": "python3",
   "display_name": "Python 3.8.5 64-bit ('env')"
  },
  "interpreter": {
   "hash": "b4d2f610e779498ad6cbbbe314efb21a1e4c6d0a3bd79c842ad061840160ab3d"
  }
 },
 "nbformat": 4,
 "nbformat_minor": 2,
 "cells": [
  {
   "cell_type": "code",
   "execution_count": 2,
   "metadata": {},
   "outputs": [
    {
     "output_type": "stream",
     "name": "stdout",
     "text": [
      "2.0\n"
     ]
    }
   ],
   "source": [
    "# calculum to determine the slope of function\n",
    "def slope(x1, y1, x2, y2):\n",
    "    return (y2 - y1) / (x2 - x1)\n",
    "\n",
    "print(slope(80, 240, 90, 260))"
   ]
  },
  {
   "cell_type": "code",
   "execution_count": null,
   "metadata": {},
   "outputs": [],
   "source": []
  }
 ]
}